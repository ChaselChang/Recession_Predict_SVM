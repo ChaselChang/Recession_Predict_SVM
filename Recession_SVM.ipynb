{
 "cells": [
  {
   "cell_type": "markdown",
   "metadata": {},
   "source": [
    "# Replicating SVM Recession Prediction\n",
    "\n",
    "## Data Fetching\n",
    "\n",
    "### Labels from NBER\n",
    "This group of data is employed as labels of recession and expansion. Data fetched from https://www.nber.org/cycles/cyclesmain.html. Expansions are defined as the previous trough month (excluded) to the current peak month (included); recessions are defined as previous peak month (excluded) to the current trough month (included).\n",
    "\n",
    "### Variable 1 of nonfarm payrolls\n",
    "This group of variable stands for information from labor market. Data fetched from https://fred.stlouisfed.org/series/PAYEMS. It is the nonfarm payrolls from the Employment Situation Report published by the Bureau of Labor Statistics (BLS). Then take the log difference of it.\n",
    "\n",
    "### Variable 2 of S&P500 monthly average\n",
    "This group of variable stands for information from stock market. Data fetched from https://finance.yahoo.com/quote/%5EGSPC/history. It is the daily historical data of S&P500 from 1/1/1959 to 9/30/2019. Then we take a monthly average and then a log difference of it.\n",
    "\n",
    "### Variable 3 of ISM Production Index\n",
    "This group of variable stands for information from goods market. Data collected from https://www.instituteforsupplymanagement.org/ISMReport/MfgROB.cfm?SSO=1#production and https://ycharts.com/indicators/us_ism_manufacturing_production_index. It is published by ISM monthly.\n",
    "\n",
    "### Variable 4 of 10-year Treasury yield minus the fed funds rate\n",
    "This group of variable stands for information from bonds market.Data fetched from https://www.multpl.com/10-year-treasury-rate/table/by-month and https://fred.stlouisfed.org/series/FEDFUNDS. Then take difference of them.\n",
    "\n",
    "---\n",
    "\n",
    "## Data Cleaning\n",
    "First convert labels from \"trough month numbers\" and \"peak month numbers\" to month numbers with recession and expension labels (1 for recession, 0 for expension). Discard the month number column.\n",
    "Then take log-difference of variable 1 and log-difference monthly-average of variable 2.\n",
    "\n",
    "The after-processed 5 groups of data all contain only one column which is their value from Feburary 1959 to September 2019 (all 728 lines excluding title). Collabrate them into one single matrix (728 x 5, excluding column names), we have it as input matrix.\n",
    "\n",
    "---\n",
    "\n",
    "## Parameter Tuning\n",
    "According to the paper we use 10-fold cross validation on the first 100 dates to determine hyper-parameters (gamma, C).\n",
    "\n",
    "(In fact the paper claims that they fixed gamma as 1/4, \"the inverse of number of predictors\". However, this number of gamma proves a relatively pool performance. Hence we use gridsearchCV to tune it together with gamma.)"
   ]
  },
  {
   "cell_type": "code",
   "execution_count": 62,
   "metadata": {},
   "outputs": [
    {
     "name": "stdout",
     "output_type": "stream",
     "text": [
      "Fitting 10 folds for each of 81 candidates, totalling 810 fits\n"
     ]
    },
    {
     "name": "stderr",
     "output_type": "stream",
     "text": [
      "[Parallel(n_jobs=4)]: Using backend LokyBackend with 4 concurrent workers.\n",
      "[Parallel(n_jobs=4)]: Done  42 tasks      | elapsed:   14.3s\n",
      "[Parallel(n_jobs=4)]: Done 810 out of 810 | elapsed:   18.4s finished\n"
     ]
    },
    {
     "data": {
      "text/plain": [
       "SVC(C=1.44, cache_size=200, class_weight=None, coef0=0.0,\n",
       "    decision_function_shape='ovr', degree=3, gamma=2.42, kernel='rbf',\n",
       "    max_iter=-1, probability=True, random_state=None, shrinking=True, tol=0.001,\n",
       "    verbose=False)"
      ]
     },
     "execution_count": 62,
     "metadata": {},
     "output_type": "execute_result"
    }
   ],
   "source": [
    "import numpy as np\n",
    "import pandas as pd\n",
    "from sklearn.svm import SVC\n",
    "import matplotlib.pyplot as plt\n",
    "\n",
    "# read dataset to pandas dataframe\n",
    "data = pd.read_csv(\"recession2.csv\")\n",
    "\n",
    "def svm_cross_validation(train_x, train_y, c_region, g_region):\n",
    "    from sklearn.model_selection import GridSearchCV\n",
    "    model = SVC(kernel='rbf', probability=True)\n",
    "    param_grid = {'C': c_region, 'gamma': g_region}\n",
    "    grid_search = GridSearchCV(model, param_grid, n_jobs = 4, verbose=1, cv = 10)\n",
    "    grid_search.fit(train_x, train_y)\n",
    "    grid_results = grid_search.cv_results_\n",
    "    #print(grid_results)\n",
    "    best_parameters = grid_search.best_estimator_.get_params()\n",
    "    #for para, val in list(best_parameters.items()):\n",
    "    #    print(para, val)\n",
    "    model = SVC(kernel='rbf', C=best_parameters['C'], gamma=best_parameters['gamma'], probability=True)\n",
    "    model.fit(train_x, train_y)\n",
    "    return model\n",
    "\n",
    "XX_train = data.drop('labels', axis=1)[0:100]\n",
    "yy_train = data['labels'][0:100]\n",
    "svm_cross_validation(XX_train, yy_train, [1.44,1.48,1.52,1.56,1.6,1.64,1.68,1.72,1.76], [2.42,2.44,2.46,2.48,2.5,2.52,2.54,2.56,2.58])"
   ]
  },
  {
   "cell_type": "markdown",
   "metadata": {},
   "source": [
    "As the result shows, we gain the best parameters (gamma = 2.54, C = 1.56) after several times of narrowing the region of gridsearch.\n",
    "\n",
    "## Training and Testing\n",
    "\n",
    "However, different from their positive claim in the paper, this group of parameters perform quite unsatisfactorily in the following training and testing part. Some refinements will be discussed below."
   ]
  },
  {
   "cell_type": "code",
   "execution_count": 73,
   "metadata": {},
   "outputs": [
    {
     "name": "stdout",
     "output_type": "stream",
     "text": [
      "[[0.93558179 0.06441821]]\n",
      "[[0.93904242 0.06095758]]\n",
      "[[0.9358111 0.0641889]]\n",
      "[[0.93696663 0.06303337]]\n",
      "[[0.93886587 0.06113413]]\n",
      "[[0.93610337 0.06389663]]\n",
      "[[0.93134982 0.06865018]]\n",
      "[[0.42098418 0.57901582]]\n",
      "[[0.93657201 0.06342799]]\n",
      "[[0.20054556 0.79945444]]\n",
      "[[0.93566739 0.06433261]]\n"
     ]
    },
    {
     "data": {
      "text/plain": [
       "<matplotlib.legend.Legend at 0x23da65c9c88>"
      ]
     },
     "execution_count": 73,
     "metadata": {},
     "output_type": "execute_result"
    },
    {
     "data": {
      "image/png": "[encoded data removed]",
      "text/plain": [
       "<Figure size 1440x504 with 1 Axes>"
      ]
     },
     "metadata": {
      "needs_background": "light"
     },
     "output_type": "display_data"
    }
   ],
   "source": [
    "import math\n",
    "X = data.drop('labels', axis=1)\n",
    "y = data['labels']\n",
    "\n",
    "#Splitting data into training and testing groups by rolling window\n",
    "n = 1\n",
    "y_pred = np.array([])\n",
    "#rolling window size\n",
    "for i in range(0,math.ceil((732-721+1)/n)-1):\n",
    "    X_train = X[0:min(732, 720+i*n)]\n",
    "    X_test = X[721+i*n:min(732, 721+(i+1)*n)]\n",
    "    y_train = y[0:min(732, 720+i*n)]\n",
    "    y_test = y[721+i*n:min(732, 721+(i+1)*n)]\n",
    "\n",
    "    svclassifier = SVC(C = 6, kernel='rbf', gamma = 1, class_weight={0:1, 1:1.53},probability = True)\n",
    "    svclassifier.fit(X_train, y_train)\n",
    "    \n",
    "    y_pred = np.append(y_pred, svclassifier.predict(X_test))\n",
    "    print(svclassifier.predict_proba(X_test))\n",
    "#y_plot.insert(2, \"pred\", y_pred)\n",
    "#plt.plot(y_plot)\n",
    "#from sklearn.metrics import classification_report, confusion_matrix\n",
    "#print(confusion_matrix(y[721:], y_pred))\n",
    "#print(classification_report(y[721:], y_pred))\n",
    "\n",
    "plt.figure(figsize=(20,7))\n",
    "y_plot = y[721:].to_frame()\n",
    "y_plot[\"pred\"] = y_pred\n",
    "plt.plot(y_plot[\"labels\"], label = \"recession\")\n",
    "plt.plot(y_plot[\"pred\"], label = \"prediction\")\n",
    "plt.legend(loc='upper right')"
   ]
  },
  {
   "cell_type": "markdown",
   "metadata": {},
   "source": [
    "## Refinement\n",
    "This pool performance might be refined by the following methods:\n",
    "\n",
    "1. Although the paper did not mention any normalization with their input matrix, a normalization could be helpful in this case, considering the first variable (10^-3) is 4 to 5 magnitudes smaller than the third variable (10^2).\n",
    "\n",
    "2. Instead of splitting data into training and testing set naively, a rolling/ expanding window will perform reasonably better in time series models.\n",
    "\n",
    "3. The paper employed a naive way of hyper-parameter tuning by performing 10-fold CV on the first 100 dates. This method actually ignores the unforeseeable property of time series data. A refined tuning method could be CV by a rolling/ expanding window."
   ]
  },
  {
   "cell_type": "code",
   "execution_count": 14,
   "metadata": {},
   "outputs": [
    {
     "name": "stdout",
     "output_type": "stream",
     "text": [
      "            va_1      va_2      va_3      va_4    labels\n",
      "va_1    1.000000  0.044080 -0.595717 -0.041721  0.579417\n",
      "va_2    0.044080  1.000000 -0.056069  0.022112  0.118869\n",
      "va_3   -0.595717 -0.056069  1.000000 -0.172359 -0.605640\n",
      "va_4   -0.041721  0.022112 -0.172359  1.000000  0.192065\n",
      "labels  0.579417  0.118869 -0.605640  0.192065  1.000000\n"
     ]
    },
    {
     "data": {
      "image/png": "[encoded data removed]",
      "text/plain": [
       "<Figure size 432x288 with 2 Axes>"
      ]
     },
     "metadata": {
      "needs_background": "light"
     },
     "output_type": "display_data"
    }
   ],
   "source": [
    "corr = pd.DataFrame.corr(data)\n",
    "import seaborn as sns\n",
    "ax = sns.heatmap(corr)\n",
    "print(corr)"
   ]
  },
  {
   "cell_type": "code",
   "execution_count": 60,
   "metadata": {},
   "outputs": [
    {
     "name": "stdout",
     "output_type": "stream",
     "text": [
      "[0 0 0 0 1 1 1 1 1 0]\n",
      "[[0.9753627  0.0246373 ]\n",
      " [0.94776496 0.05223504]\n",
      " [0.95866609 0.04133391]\n",
      " [0.9814305  0.0185695 ]\n",
      " [0.1904562  0.8095438 ]\n",
      " [0.27265145 0.72734855]\n",
      " [0.65267825 0.34732175]\n",
      " [0.21780357 0.78219643]\n",
      " [0.38007978 0.61992022]\n",
      " [0.95783512 0.04216488]]\n"
     ]
    }
   ],
   "source": [
    "data = pd.read_csv(\"recession2.csv\")\n",
    "\n",
    "X = data.drop('labels', axis=1)\n",
    "y = data['labels']\n",
    "\n",
    "X_pre = X[0:168]\n",
    "y_pre = y[0:168]\n",
    "X_res = X[168:732]\n",
    "\n",
    "svclassifier = SVC(C = 6, kernel='rbf', gamma = 1, class_weight={0:1, 1:1.53}, probability = True)\n",
    "svclassifier.fit(X_pre, y_pre)\n",
    "\n",
    "print(svclassifier.predict(X_res)[-10:732])\n",
    "print(svclassifier.predict_proba(X_res)[-10:732])"
   ]
  },
  {
   "cell_type": "code",
   "execution_count": null,
   "metadata": {},
   "outputs": [],
   "source": []
  }
 ],
 "metadata": {
  "kernelspec": {
   "display_name": "Python 3",
   "language": "python",
   "name": "python3"
  },
  "language_info": {
   "codemirror_mode": {
    "name": "ipython",
    "version": 3
   },
   "file_extension": ".py",
   "mimetype": "text/x-python",
   "name": "python",
   "nbconvert_exporter": "python",
   "pygments_lexer": "ipython3",
   "version": "3.7.4"
  }
 },
 "nbformat": 4,
 "nbformat_minor": 2
}
